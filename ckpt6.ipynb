{
 "cells": [
  {
   "cell_type": "code",
   "execution_count": 1,
   "id": "35f2c06d",
   "metadata": {},
   "outputs": [],
   "source": [
    "import numpy as np"
   ]
  },
  {
   "cell_type": "code",
   "execution_count": 6,
   "id": "421d36e4",
   "metadata": {},
   "outputs": [
    {
     "data": {
      "text/plain": [
       "[6, 8, 62, 2, 34]"
      ]
     },
     "execution_count": 6,
     "metadata": {},
     "output_type": "execute_result"
    }
   ],
   "source": [
    "a=np.array([6,8,62,2,34])\n",
    "c=a.tolist()\n",
    "c"
   ]
  },
  {
   "cell_type": "code",
   "execution_count": 11,
   "id": "8a23314f",
   "metadata": {},
   "outputs": [
    {
     "name": "stdout",
     "output_type": "stream",
     "text": [
      "113\n"
     ]
    }
   ],
   "source": [
    "d=np.array([[9,5,3],[1,85,45],[23,15,19]])\n",
    "compute=d.trace()\n",
    "print(compute)"
   ]
  },
  {
   "cell_type": "code",
   "execution_count": 17,
   "id": "82606f06",
   "metadata": {},
   "outputs": [
    {
     "data": {
      "text/plain": [
       "array([12, 56,  9, 26])"
      ]
     },
     "execution_count": 17,
     "metadata": {},
     "output_type": "execute_result"
    }
   ],
   "source": [
    "r=np.array([[12,4,56],[9,26,1]])\n",
    "x=5\n",
    "r[r>x]"
   ]
  },
  {
   "cell_type": "code",
   "execution_count": 32,
   "id": "708a5556",
   "metadata": {},
   "outputs": [
    {
     "data": {
      "text/plain": [
       "array([[ 11, 112,  20],\n",
       "       [ 99,  81,  52],\n",
       "       [ 82,  63,  14]])"
      ]
     },
     "execution_count": 32,
     "metadata": {},
     "output_type": "execute_result"
    }
   ],
   "source": [
    "A=np.array([[5,23,8],[2,78,45],[26,9,4]])\n",
    "B=np.array([[6,89,12],[97,3,7],[56,54,10]])\n",
    "C=A+B\n",
    "C"
   ]
  },
  {
   "cell_type": "code",
   "execution_count": 42,
   "id": "99843fba",
   "metadata": {},
   "outputs": [
    {
     "name": "stdout",
     "output_type": "stream",
     "text": [
      "[[-0.00085798  0.32707125 -0.41332102  0.07099667 -0.00554319  0.25578964\n",
      "  -0.16207631  0.47694725 -0.4173866  -0.13161973]]\n"
     ]
    }
   ],
   "source": [
    "X = np.random.rand(1, 10)\n",
    "Y = X-X.mean(axis=1,keepdims=True)\n",
    "print(Y)\n"
   ]
  },
  {
   "cell_type": "code",
   "execution_count": null,
   "id": "890d35e1",
   "metadata": {},
   "outputs": [],
   "source": []
  }
 ],
 "metadata": {
  "kernelspec": {
   "display_name": "Python 3",
   "language": "python",
   "name": "python3"
  },
  "language_info": {
   "codemirror_mode": {
    "name": "ipython",
    "version": 3
   },
   "file_extension": ".py",
   "mimetype": "text/x-python",
   "name": "python",
   "nbconvert_exporter": "python",
   "pygments_lexer": "ipython3",
   "version": "3.8.8"
  }
 },
 "nbformat": 4,
 "nbformat_minor": 5
}
